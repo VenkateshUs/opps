{
 "cells": [
  {
   "cell_type": "code",
   "execution_count": 7,
   "id": "4dc4bdd8-7afb-47da-9f42-3e222a0f6755",
   "metadata": {},
   "outputs": [],
   "source": [
    "#Problem1 :Bank Account Create a class representing a bank account with attributes like account number, account holder name, and balance.\n",
    "#Implement methods to deposit and withdraw money from the account.\n",
    "\n",
    "class BankAccount():\n",
    "    \n",
    "    def __init__(self,account_number,accountholder_name, balance) :\n",
    "        self.account_number = account_number\n",
    "        self.accountholder_name = accountholder_name\n",
    "        self.balance  = balance\n",
    "    \n",
    "    def deposit(self, amount) :\n",
    "        print(\"The amount deposited in the account:\", amount)\n",
    "    \n",
    "    def withdraw(self, amt_with) :\n",
    "        print(\"The amount debited from your account:\", amt_with)"
   ]
  },
  {
   "cell_type": "code",
   "execution_count": 8,
   "id": "06880232-5519-4b81-ae36-6bc1bca9d601",
   "metadata": {},
   "outputs": [],
   "source": [
    "karan = BankAccount(123456, \"karan Malhotra\", 55000)"
   ]
  },
  {
   "cell_type": "code",
   "execution_count": 9,
   "id": "9431cabc-8652-4f23-a117-6c1edafae774",
   "metadata": {},
   "outputs": [
    {
     "name": "stdout",
     "output_type": "stream",
     "text": [
      "The amount deposited in the account: 10000\n"
     ]
    }
   ],
   "source": [
    "karan.deposit(10000)"
   ]
  },
  {
   "cell_type": "code",
   "execution_count": 10,
   "id": "c93d280e-104d-4204-ba0d-5d98c781c387",
   "metadata": {},
   "outputs": [
    {
     "name": "stdout",
     "output_type": "stream",
     "text": [
      "The amount debited from your account: 5000\n"
     ]
    }
   ],
   "source": [
    "karan.withdraw(5000)"
   ]
  },
  {
   "cell_type": "code",
   "execution_count": 18,
   "id": "c9359d2b-928c-4ccf-a3c1-62446b8d037c",
   "metadata": {},
   "outputs": [],
   "source": [
    "# Problem 2: Employee Management Create a class representing an employee with attributes like employee ID, name, and salary. \n",
    "# Implement methods to calculate the yearly bonus and display employee details.\n",
    "\n",
    "class EmployeeManagement :\n",
    "    def __init__(self, employeeID, name, salary) :\n",
    "        self.empolyeeID = employeeID\n",
    "        self.name    = name\n",
    "        self.salary = salary\n",
    "    \n",
    "    def YearlyBonus (self) :\n",
    "        if self.salary <= 20000 :\n",
    "            Bonus = 0.15 * self.salary\n",
    "            print(\"Yearly bonus will be:\", Bonus)\n",
    "        elif self.salary > 20000 and self.salary <= 50000 :\n",
    "            Bonus = 0.10 * self.salary\n",
    "            print(\"Yearly bonus will be:\", Bonus)\n",
    "        else :\n",
    "            Bonus = 0.08 * self.salary\n",
    "            print(\"Yearly bonus will be:\", Bonus)\n",
    "            \n",
    "    def empolyee_details (self) :\n",
    "        return self.name, self.empolyeeID, self.salary\n",
    "            "
   ]
  },
  {
   "cell_type": "code",
   "execution_count": 19,
   "id": "542775bb-3581-42ec-9ca0-2f33593a5dbf",
   "metadata": {},
   "outputs": [],
   "source": [
    "empolyee1 = EmployeeManagement(1915, 'virendra', 35000)\n",
    "empolyee2 = EmployeeManagement(1927, 'vikranth', 55000)"
   ]
  },
  {
   "cell_type": "code",
   "execution_count": 27,
   "id": "6701ea23-e961-472a-a828-5b28dd1d2778",
   "metadata": {},
   "outputs": [
    {
     "name": "stdout",
     "output_type": "stream",
     "text": [
      "Yearly bonus will be: 3500.0\n",
      "Yearly bonus will be: 4400.0\n"
     ]
    }
   ],
   "source": [
    "empolyee1.YearlyBonus()\n",
    "empolyee2.YearlyBonus()"
   ]
  },
  {
   "cell_type": "code",
   "execution_count": 31,
   "id": "59ef5b58-28c6-49af-a945-ce1866bed2a0",
   "metadata": {},
   "outputs": [
    {
     "data": {
      "text/plain": [
       "('virendra', 1915, 35000)"
      ]
     },
     "execution_count": 31,
     "metadata": {},
     "output_type": "execute_result"
    }
   ],
   "source": [
    "empolyee1.empolyee_details()"
   ]
  },
  {
   "cell_type": "code",
   "execution_count": 32,
   "id": "02b03d38-81d0-4196-8977-fa4c1a379adf",
   "metadata": {},
   "outputs": [
    {
     "data": {
      "text/plain": [
       "('vikranth', 1927, 55000)"
      ]
     },
     "execution_count": 32,
     "metadata": {},
     "output_type": "execute_result"
    }
   ],
   "source": [
    "empolyee2.empolyee_details()"
   ]
  },
  {
   "cell_type": "code",
   "execution_count": 53,
   "id": "4b86bb9a-a041-4c13-936a-8703d17811bc",
   "metadata": {},
   "outputs": [],
   "source": [
    "# Problem 3: Vehicle Rental Create a class representing a vehicle rental system.\n",
    "# Implement methods to rent a vehicle, return a vehicle, and display available vehicles\n",
    "\n",
    "class VehicleRentalSystem :\n",
    "    \n",
    "    def __init__(self) :\n",
    "        self.v1 = \"Activa\"\n",
    "        self.v2 = \"RX 100\"\n",
    "        self.v3 = \"Royal Enfiled Classic\"\n",
    "        \n",
    "    def rent_vehicle (self, rent_fee, deposit) :\n",
    "        print(\"Your rent fee for vehicle is:\", rent_fee, \" per day and deposit will be:\", deposit)\n",
    "        \n",
    "    def return_vehicle(self) :\n",
    "        print(\"Once you return vehicle, you will be get your deposit back\")\n",
    "        \n",
    "    def Available_vehicles(self):\n",
    "        return self.v1, self.v2, self.v3"
   ]
  },
  {
   "cell_type": "code",
   "execution_count": 54,
   "id": "c6418bbc-62f3-463c-8efc-d8d5ab38368d",
   "metadata": {},
   "outputs": [],
   "source": [
    "customer1 = VehicleRentalSystem()\n",
    "customer2 = VehicleRentalSystem()"
   ]
  },
  {
   "cell_type": "code",
   "execution_count": 55,
   "id": "3accddfb-f3b8-4c64-bcd6-8f8b726970a1",
   "metadata": {},
   "outputs": [
    {
     "name": "stdout",
     "output_type": "stream",
     "text": [
      "Your rent fee for vehicle is: 500  per day and deposit will be: 10000\n",
      "Once you return vehicle, you will be get your deposit back\n"
     ]
    }
   ],
   "source": [
    "customer1.rent_vehicle(500, 10000)\n",
    "customer2.return_vehicle()"
   ]
  },
  {
   "cell_type": "code",
   "execution_count": 56,
   "id": "e9f1a42d-cec3-48ac-984a-a63dafee590f",
   "metadata": {},
   "outputs": [
    {
     "data": {
      "text/plain": [
       "('Activa', 'RX 100', 'Royal Enfiled Classic')"
      ]
     },
     "execution_count": 56,
     "metadata": {},
     "output_type": "execute_result"
    }
   ],
   "source": [
    "customer1.Available_vehicles()"
   ]
  },
  {
   "cell_type": "code",
   "execution_count": 27,
   "id": "d51d01fe-2d24-478a-997e-ffac1d8b9af0",
   "metadata": {},
   "outputs": [],
   "source": [
    "# Problem 4: Library Catalog Create classes representing a library and a book. \n",
    "# Implement methods to add books to the library, borrow books, and display available books.\n",
    "\n",
    "\n",
    "class book :\n",
    "    def __init__(self) :\n",
    "        self.book1 = \"Ramanya\"\n",
    "        self.book2 =  \"Bhagavat Gita\"\n",
    "    def display_books(self) :\n",
    "        return self.book1, self.book2, self.add_book,self.borrowbook \n",
    "        \n",
    "class Library(book):\n",
    "    def __init__(self, add_books, borrow_book):\n",
    "        self.add_book = add_books\n",
    "        self.borrowbook = borrow_book\n",
    "        \n",
    "    def add_books(self) :\n",
    "        return self.book\n",
    "    \n",
    "    def borrow_book(self) :\n",
    "        return self.borrowbook\n",
    "   "
   ]
  },
  {
   "cell_type": "code",
   "execution_count": 23,
   "id": "d91100c5-98a7-4e10-a809-add67c9accbd",
   "metadata": {},
   "outputs": [
    {
     "data": {
      "text/plain": [
       "('Ramanya', 'Bhagavat Gita', 'Mahabharata', 'power of friends')"
      ]
     },
     "execution_count": 23,
     "metadata": {},
     "output_type": "execute_result"
    }
   ],
   "source": [
    "customer1 = Library(\"Mahabharata\", \"power of friends\")\n",
    "customer1.display_books()"
   ]
  },
  {
   "cell_type": "code",
   "execution_count": 30,
   "id": "8efcebed-6c79-4941-8589-91423b3b54e4",
   "metadata": {},
   "outputs": [
    {
     "data": {
      "text/plain": [
       "'VWS'"
      ]
     },
     "execution_count": 30,
     "metadata": {},
     "output_type": "execute_result"
    }
   ],
   "source": [
    "customer2 = Library(\"RM\",\"VWS\")\n",
    "customer2.borrow_book()"
   ]
  },
  {
   "cell_type": "code",
   "execution_count": 62,
   "id": "9e6ec309-4c47-436f-803e-b8b336684448",
   "metadata": {},
   "outputs": [],
   "source": [
    "# Problem 5: Product Inventory Create classes representing a product and an inventory system. \n",
    "# Implement methods to add products to the inventory, update product quantity, and display available products.\n",
    "\n",
    "class Product :\n",
    "    def __init__(self,product_name, updated_product_quantity,add_product) :\n",
    "        self.productname1 = product_name\n",
    "        self.productname2 = \"iphone\"\n",
    "        self.productQuantity = updated_product_quantity\n",
    "        self.addproduct = add_product\n",
    "        \n",
    "class Inventory(Product) :\n",
    "    \n",
    "    def add_product(self):\n",
    "        print(\"product added to the inventory:\", self.addproduct)\n",
    "        \n",
    "    def updateProductQuantity(self) :\n",
    "        print(\"product quantity has been updated in inventory:\",self.productQuantity)\n",
    "        \n",
    "    def displayAvailableProducts(self) :\n",
    "        return self.productname1,  self.productname2       "
   ]
  },
  {
   "cell_type": "code",
   "execution_count": 64,
   "id": "e244abc8-342a-4780-b712-470e96ae6c0b",
   "metadata": {},
   "outputs": [],
   "source": [
    "hp = Inventory(\"Boat\",50,\"classmate\")"
   ]
  },
  {
   "cell_type": "code",
   "execution_count": 66,
   "id": "f6bce9ab-5ef8-4c18-847a-511c1b5ff442",
   "metadata": {},
   "outputs": [
    {
     "name": "stdout",
     "output_type": "stream",
     "text": [
      "product added to the inventory: classmate\n"
     ]
    }
   ],
   "source": [
    "hp.add_product()"
   ]
  },
  {
   "cell_type": "code",
   "execution_count": 68,
   "id": "804a0fa3-fc60-4a69-8dec-72075f20e957",
   "metadata": {},
   "outputs": [
    {
     "name": "stdout",
     "output_type": "stream",
     "text": [
      "product quantity has been updated in inventory: 50\n"
     ]
    }
   ],
   "source": [
    "hp.updateProductQuantity()"
   ]
  },
  {
   "cell_type": "code",
   "execution_count": 69,
   "id": "e088d774-4f51-40a0-84f6-96e7e3306d99",
   "metadata": {},
   "outputs": [
    {
     "data": {
      "text/plain": [
       "('Boat', 'iphone')"
      ]
     },
     "execution_count": 69,
     "metadata": {},
     "output_type": "execute_result"
    }
   ],
   "source": [
    "hp.displayAvailableProducts()"
   ]
  },
  {
   "cell_type": "code",
   "execution_count": 71,
   "id": "f05dd641-a22d-47a5-97d6-4b28483d6cb2",
   "metadata": {},
   "outputs": [],
   "source": [
    "# #Problem 6: Shape Calculation Create a class representing a shape with attributes like length, width, and height. \n",
    "# Implement methods to calculate the area and perimeter of the shape\n",
    "\n",
    "class Shape :\n",
    "    def __init__(self, length, width, height):\n",
    "        self.length = length\n",
    "        self.width = width\n",
    "        self.height = height\n",
    "    \n",
    "    def Area(self) :\n",
    "        area = self.length * self.width\n",
    "        return area\n",
    "        \n",
    "    def Perimeter(self) :\n",
    "        perimeter = 2 * (self.length + self.width)\n",
    "        return perimeter        "
   ]
  },
  {
   "cell_type": "code",
   "execution_count": 72,
   "id": "20ce709d-2800-45cb-a611-456c9e37ba4a",
   "metadata": {},
   "outputs": [],
   "source": [
    "shape1 = Shape(15,12,5)"
   ]
  },
  {
   "cell_type": "code",
   "execution_count": 73,
   "id": "14206706-a1f5-4c60-88ce-c2edf6bc8e25",
   "metadata": {},
   "outputs": [
    {
     "data": {
      "text/plain": [
       "180"
      ]
     },
     "execution_count": 73,
     "metadata": {},
     "output_type": "execute_result"
    }
   ],
   "source": [
    "shape1.Area()"
   ]
  },
  {
   "cell_type": "code",
   "execution_count": 74,
   "id": "2f166b20-ed29-4caf-838a-8bb2dc885e68",
   "metadata": {},
   "outputs": [
    {
     "data": {
      "text/plain": [
       "54"
      ]
     },
     "execution_count": 74,
     "metadata": {},
     "output_type": "execute_result"
    }
   ],
   "source": [
    "shape1.Perimeter()"
   ]
  },
  {
   "cell_type": "code",
   "execution_count": 20,
   "id": "ed4ce653-b9e8-43b0-9401-899aa713651a",
   "metadata": {},
   "outputs": [],
   "source": [
    "# Student Management Create a class representing a student with attributes like student ID, name, and grades. \n",
    "# Implement methods to calculate the average grade and display student details.\n",
    "class StudentManagement :\n",
    "    def __init__(self, studentId, name, grades) :\n",
    "        self.studentId = studentId\n",
    "        self.name = name\n",
    "        self.grades = grades\n",
    "    \n",
    "    def averageGrade(self) :\n",
    "        avgGrade = sum(self.grades)/len(self.grades)\n",
    "        return avgGrade\n",
    "    def student_details(self):\n",
    "        return self.studentId, self.name, self.grades        "
   ]
  },
  {
   "cell_type": "code",
   "execution_count": 21,
   "id": "86926fa2-2d21-42b1-ba20-0052e8aa5e9d",
   "metadata": {},
   "outputs": [],
   "source": [
    "student1 =StudentManagement (123, \"Ravi\",[35,45,78])\n",
    "student2 =StudentManagement(12, \"Akansha\", [35,50,64])"
   ]
  },
  {
   "cell_type": "code",
   "execution_count": 26,
   "id": "17a33762-8568-4230-b948-4827e0797792",
   "metadata": {},
   "outputs": [
    {
     "name": "stdout",
     "output_type": "stream",
     "text": [
      "49.666666666666664\n"
     ]
    },
    {
     "data": {
      "text/plain": [
       "(12, 'Akansha', [35, 50, 64])"
      ]
     },
     "execution_count": 26,
     "metadata": {},
     "output_type": "execute_result"
    }
   ],
   "source": [
    "print(student2.averageGrade())\n",
    "student2.student_details()"
   ]
  },
  {
   "cell_type": "code",
   "execution_count": 28,
   "id": "cb5803b1-8d38-49f1-bbb8-b4f8cd25b225",
   "metadata": {},
   "outputs": [
    {
     "name": "stdout",
     "output_type": "stream",
     "text": [
      "52.666666666666664\n",
      "(123, 'Ravi', [35, 45, 78])\n"
     ]
    }
   ],
   "source": [
    "print(student1.averageGrade())\n",
    "print(student1.student_details())"
   ]
  },
  {
   "cell_type": "code",
   "execution_count": 22,
   "id": "c2ca6e32-8913-487b-9301-9f2a09080e07",
   "metadata": {},
   "outputs": [],
   "source": [
    "# Email Management Create a class representing an email with attributes like sender, recipient, and subject.\n",
    "# Implement methods to send an email and display email details.\n",
    "\n",
    "class EmailManagement :\n",
    "    def __init__(self, sender, recipient, subject):\n",
    "        self.sender =sender  \n",
    "        self.recipient = recipient\n",
    "        self.subject = subject\n",
    "        \n",
    "    def send_email(self) :\n",
    "        print(f\"Email sent from {self.sender} to {self.recipient} with subject '{self.subject}'\")\n",
    "        \n",
    "        \n",
    "    def display_email_details (self) :\n",
    "        print(f\"sender: {self.sender},\\nrecipient: {self.recipient},\\nsubject: {self.subject}\")"
   ]
  },
  {
   "cell_type": "code",
   "execution_count": 23,
   "id": "321d475b-143a-4921-81bd-4f372132d590",
   "metadata": {},
   "outputs": [],
   "source": [
    "karan = EmailManagement(\"karan@gmail.com\",\"ravi@gmail.com\",\"Planning for weekend\")"
   ]
  },
  {
   "cell_type": "code",
   "execution_count": 8,
   "id": "5e9d9e02-4717-469f-b8dd-0f9ea828aa0b",
   "metadata": {},
   "outputs": [
    {
     "name": "stdout",
     "output_type": "stream",
     "text": [
      "Email sent from karan@gmail.com to ravi@gmail.com with subject 'Planning for weekend'\n"
     ]
    }
   ],
   "source": [
    "karan.send_email()"
   ]
  },
  {
   "cell_type": "code",
   "execution_count": 24,
   "id": "5b122561-e0dc-49ab-aad5-a40fe7b78e22",
   "metadata": {},
   "outputs": [
    {
     "name": "stdout",
     "output_type": "stream",
     "text": [
      "sender: karan@gmail.com,\n",
      "recipient: ravi@gmail.com,\n",
      "subject: Planning for weekend\n"
     ]
    }
   ],
   "source": [
    "karan.display_email_details()"
   ]
  },
  {
   "cell_type": "code",
   "execution_count": 53,
   "id": "79e1646a-a580-4a79-a8d4-99cc10169390",
   "metadata": {},
   "outputs": [],
   "source": [
    "# Problem 9: Social Media Profile Create a class representing a social media profile with attributes like username and posts. \n",
    "# Implement methods to add posts, display posts, and search for posts by keyword.\n",
    "\n",
    "class SocialMediaProfile :\n",
    "    def __init__(self,username, posts) :\n",
    "        self.username = username\n",
    "        self.posts = posts\n",
    "        \n",
    "    def add_post(self, add_post) :\n",
    "        print(\"add_posted :\", add_post)\n",
    "        \n",
    "    def display_post(self) :\n",
    "        return self.posts\n",
    "    \n",
    "    def search_posts(self, keyword):\n",
    "        for posts in self.posts :\n",
    "            if keyword in self.posts:\n",
    "                return self.posts\n",
    "        else:\n",
    "            print(keyword, \"is not present in posts\")"
   ]
  },
  {
   "cell_type": "code",
   "execution_count": 54,
   "id": "2ef9bba6-9486-4a97-8455-a0b032e7a764",
   "metadata": {},
   "outputs": [],
   "source": [
    "vicky = SocialMediaProfile(\"vikki_1994\", \"elections of 2024\")"
   ]
  },
  {
   "cell_type": "code",
   "execution_count": 48,
   "id": "1f33b9ff-3518-4245-9cc3-4d79c0d35c4d",
   "metadata": {},
   "outputs": [
    {
     "name": "stdout",
     "output_type": "stream",
     "text": [
      "add_posted : Modi\n"
     ]
    }
   ],
   "source": [
    "vicky.add_post(\"Modi\")"
   ]
  },
  {
   "cell_type": "code",
   "execution_count": 49,
   "id": "02c8573f-2c66-4c10-9a23-8dc760cbfc09",
   "metadata": {},
   "outputs": [
    {
     "data": {
      "text/plain": [
       "'elections of 2024'"
      ]
     },
     "execution_count": 49,
     "metadata": {},
     "output_type": "execute_result"
    }
   ],
   "source": [
    "vicky.display_post()"
   ]
  },
  {
   "cell_type": "code",
   "execution_count": 56,
   "id": "bd57ef98-4b00-46d0-823e-272081fa669a",
   "metadata": {},
   "outputs": [
    {
     "data": {
      "text/plain": [
       "'elections of 2024'"
      ]
     },
     "execution_count": 56,
     "metadata": {},
     "output_type": "execute_result"
    }
   ],
   "source": [
    "vicky.search_posts(\"of\")"
   ]
  },
  {
   "cell_type": "code",
   "execution_count": 56,
   "id": "fb992050-73fe-49e5-b013-b9df7ce4a021",
   "metadata": {},
   "outputs": [],
   "source": [
    "# Problem 10: ToDo List Create a class representing a ToDo list with attributes like tasks and due dates.\n",
    "# Implement methods to add tasks, mark tasks as completed, and display pending tasks\n",
    "class ToDoList :\n",
    "    def __init__(self,add_tasks) :\n",
    "        self.task1 = \"Stationary\"\n",
    "        self.task2 = \"Laundry\"\n",
    "        self.task3 = \"Getting grocery\"\n",
    "        self.due_task1 = 18/3/2024\n",
    "        self.due_task2 = 19/3/2024\n",
    "        self.due_task3 = 21/3/2024\n",
    "        self.due_addtask = 25/3/2024\n",
    "        self.addtask   = add_tasks\n",
    "    \n",
    "    def Add_tasks(self):\n",
    "        return self.addtask\n",
    "    \n",
    "    def mark_tasks_as_completed(self) :\n",
    "        mark_as_complete = self.task1, self.task2\n",
    "        return mark_as_complete\n",
    "    def pending_task(self) :\n",
    "        pending = self.task3, self.addtask\n",
    "        return pending"
   ]
  },
  {
   "cell_type": "code",
   "execution_count": 57,
   "id": "6973aba6-e012-4155-9417-ea7f0d316247",
   "metadata": {},
   "outputs": [],
   "source": [
    "karan = ToDoList(\"paying bills\")"
   ]
  },
  {
   "cell_type": "code",
   "execution_count": 58,
   "id": "4d40a99e-2b84-4a2b-b782-fa166cbf4b3e",
   "metadata": {},
   "outputs": [
    {
     "data": {
      "text/plain": [
       "('Getting grocery', 'paying bills')"
      ]
     },
     "execution_count": 58,
     "metadata": {},
     "output_type": "execute_result"
    }
   ],
   "source": [
    "karan.pending_task()"
   ]
  },
  {
   "cell_type": "code",
   "execution_count": 59,
   "id": "8db48834-0424-4278-906d-6345f0f8849c",
   "metadata": {},
   "outputs": [
    {
     "data": {
      "text/plain": [
       "('Stationary', 'Laundry')"
      ]
     },
     "execution_count": 59,
     "metadata": {},
     "output_type": "execute_result"
    }
   ],
   "source": [
    "karan.mark_tasks_as_completed()"
   ]
  },
  {
   "cell_type": "code",
   "execution_count": 61,
   "id": "23dff232-ba91-45eb-95a9-924ce17498b7",
   "metadata": {},
   "outputs": [
    {
     "data": {
      "text/plain": [
       "'paying bills'"
      ]
     },
     "execution_count": 61,
     "metadata": {},
     "output_type": "execute_result"
    }
   ],
   "source": [
    "karan.Add_tasks()"
   ]
  },
  {
   "cell_type": "code",
   "execution_count": null,
   "id": "5a18ff13-d4b2-4ddc-9e58-c7fa04a2c34e",
   "metadata": {},
   "outputs": [],
   "source": []
  }
 ],
 "metadata": {
  "kernelspec": {
   "display_name": "Python 3 (ipykernel)",
   "language": "python",
   "name": "python3"
  },
  "language_info": {
   "codemirror_mode": {
    "name": "ipython",
    "version": 3
   },
   "file_extension": ".py",
   "mimetype": "text/x-python",
   "name": "python",
   "nbconvert_exporter": "python",
   "pygments_lexer": "ipython3",
   "version": "3.10.8"
  }
 },
 "nbformat": 4,
 "nbformat_minor": 5
}
